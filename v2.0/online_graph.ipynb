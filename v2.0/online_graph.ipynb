{
 "cells": [
  {
   "cell_type": "markdown",
   "metadata": {},
   "source": [
    "# Stock market in a web site"
   ]
  },
  {
   "cell_type": "markdown",
   "metadata": {},
   "source": [
    "Use the library pandas_datareader to stream the data directly in a data frame:"
   ]
  },
  {
   "cell_type": "code",
   "execution_count": 3,
   "metadata": {},
   "outputs": [],
   "source": [
    "from pandas_datareader import data\n",
    "import datetime"
   ]
  },
  {
   "cell_type": "code",
   "execution_count": 10,
   "metadata": {},
   "outputs": [
    {
     "data": {
      "text/plain": [
       "pandas.core.frame.DataFrame"
      ]
     },
     "execution_count": 10,
     "metadata": {},
     "output_type": "execute_result"
    }
   ],
   "source": [
    "start = datetime.datetime(2020,1,1)\n",
    "end = datetime.datetime(2020, 7, 1)\n",
    "type(data.DataReader(name=\"AAPL\", data_source =\"yahoo\", start=start, end=end))"
   ]
  },
  {
   "cell_type": "code",
   "execution_count": 14,
   "metadata": {},
   "outputs": [],
   "source": [
    "df =data.DataReader(name=\"AAPL\", data_source =\"yahoo\", start=start, end=end)"
   ]
  },
  {
   "cell_type": "code",
   "execution_count": 12,
   "metadata": {},
   "outputs": [
    {
     "data": {
      "text/html": [
       "<div>\n",
       "<style scoped>\n",
       "    .dataframe tbody tr th:only-of-type {\n",
       "        vertical-align: middle;\n",
       "    }\n",
       "\n",
       "    .dataframe tbody tr th {\n",
       "        vertical-align: top;\n",
       "    }\n",
       "\n",
       "    .dataframe thead th {\n",
       "        text-align: right;\n",
       "    }\n",
       "</style>\n",
       "<table border=\"1\" class=\"dataframe\">\n",
       "  <thead>\n",
       "    <tr style=\"text-align: right;\">\n",
       "      <th></th>\n",
       "      <th>High</th>\n",
       "      <th>Low</th>\n",
       "      <th>Open</th>\n",
       "      <th>Close</th>\n",
       "      <th>Volume</th>\n",
       "      <th>Adj Close</th>\n",
       "    </tr>\n",
       "    <tr>\n",
       "      <th>Date</th>\n",
       "      <th></th>\n",
       "      <th></th>\n",
       "      <th></th>\n",
       "      <th></th>\n",
       "      <th></th>\n",
       "      <th></th>\n",
       "    </tr>\n",
       "  </thead>\n",
       "  <tbody>\n",
       "    <tr>\n",
       "      <th>2020-01-02</th>\n",
       "      <td>300.600006</td>\n",
       "      <td>295.190002</td>\n",
       "      <td>296.239990</td>\n",
       "      <td>300.350006</td>\n",
       "      <td>33870100.0</td>\n",
       "      <td>298.829956</td>\n",
       "    </tr>\n",
       "    <tr>\n",
       "      <th>2020-01-03</th>\n",
       "      <td>300.579987</td>\n",
       "      <td>296.500000</td>\n",
       "      <td>297.149994</td>\n",
       "      <td>297.429993</td>\n",
       "      <td>36580700.0</td>\n",
       "      <td>295.924713</td>\n",
       "    </tr>\n",
       "    <tr>\n",
       "      <th>2020-01-06</th>\n",
       "      <td>299.959991</td>\n",
       "      <td>292.750000</td>\n",
       "      <td>293.790009</td>\n",
       "      <td>299.799988</td>\n",
       "      <td>29596800.0</td>\n",
       "      <td>298.282715</td>\n",
       "    </tr>\n",
       "    <tr>\n",
       "      <th>2020-01-07</th>\n",
       "      <td>300.899994</td>\n",
       "      <td>297.480011</td>\n",
       "      <td>299.839996</td>\n",
       "      <td>298.390015</td>\n",
       "      <td>27218000.0</td>\n",
       "      <td>296.879883</td>\n",
       "    </tr>\n",
       "    <tr>\n",
       "      <th>2020-01-08</th>\n",
       "      <td>304.440002</td>\n",
       "      <td>297.160004</td>\n",
       "      <td>297.160004</td>\n",
       "      <td>303.190002</td>\n",
       "      <td>33019800.0</td>\n",
       "      <td>301.655548</td>\n",
       "    </tr>\n",
       "    <tr>\n",
       "      <th>...</th>\n",
       "      <td>...</td>\n",
       "      <td>...</td>\n",
       "      <td>...</td>\n",
       "      <td>...</td>\n",
       "      <td>...</td>\n",
       "      <td>...</td>\n",
       "    </tr>\n",
       "    <tr>\n",
       "      <th>2020-06-25</th>\n",
       "      <td>365.000000</td>\n",
       "      <td>357.570007</td>\n",
       "      <td>360.700012</td>\n",
       "      <td>364.839996</td>\n",
       "      <td>34380600.0</td>\n",
       "      <td>364.839996</td>\n",
       "    </tr>\n",
       "    <tr>\n",
       "      <th>2020-06-26</th>\n",
       "      <td>365.320007</td>\n",
       "      <td>353.019989</td>\n",
       "      <td>364.410004</td>\n",
       "      <td>353.630005</td>\n",
       "      <td>51314200.0</td>\n",
       "      <td>353.630005</td>\n",
       "    </tr>\n",
       "    <tr>\n",
       "      <th>2020-06-29</th>\n",
       "      <td>362.170013</td>\n",
       "      <td>351.279999</td>\n",
       "      <td>353.250000</td>\n",
       "      <td>361.779999</td>\n",
       "      <td>32661500.0</td>\n",
       "      <td>361.779999</td>\n",
       "    </tr>\n",
       "    <tr>\n",
       "      <th>2020-06-30</th>\n",
       "      <td>365.980011</td>\n",
       "      <td>360.000000</td>\n",
       "      <td>360.079987</td>\n",
       "      <td>364.799988</td>\n",
       "      <td>35055800.0</td>\n",
       "      <td>364.799988</td>\n",
       "    </tr>\n",
       "    <tr>\n",
       "      <th>2020-07-01</th>\n",
       "      <td>367.359985</td>\n",
       "      <td>363.910004</td>\n",
       "      <td>365.119995</td>\n",
       "      <td>364.109985</td>\n",
       "      <td>27684300.0</td>\n",
       "      <td>364.109985</td>\n",
       "    </tr>\n",
       "  </tbody>\n",
       "</table>\n",
       "<p>126 rows × 6 columns</p>\n",
       "</div>"
      ],
      "text/plain": [
       "                  High         Low        Open       Close      Volume  \\\n",
       "Date                                                                     \n",
       "2020-01-02  300.600006  295.190002  296.239990  300.350006  33870100.0   \n",
       "2020-01-03  300.579987  296.500000  297.149994  297.429993  36580700.0   \n",
       "2020-01-06  299.959991  292.750000  293.790009  299.799988  29596800.0   \n",
       "2020-01-07  300.899994  297.480011  299.839996  298.390015  27218000.0   \n",
       "2020-01-08  304.440002  297.160004  297.160004  303.190002  33019800.0   \n",
       "...                ...         ...         ...         ...         ...   \n",
       "2020-06-25  365.000000  357.570007  360.700012  364.839996  34380600.0   \n",
       "2020-06-26  365.320007  353.019989  364.410004  353.630005  51314200.0   \n",
       "2020-06-29  362.170013  351.279999  353.250000  361.779999  32661500.0   \n",
       "2020-06-30  365.980011  360.000000  360.079987  364.799988  35055800.0   \n",
       "2020-07-01  367.359985  363.910004  365.119995  364.109985  27684300.0   \n",
       "\n",
       "             Adj Close  \n",
       "Date                    \n",
       "2020-01-02  298.829956  \n",
       "2020-01-03  295.924713  \n",
       "2020-01-06  298.282715  \n",
       "2020-01-07  296.879883  \n",
       "2020-01-08  301.655548  \n",
       "...                ...  \n",
       "2020-06-25  364.839996  \n",
       "2020-06-26  353.630005  \n",
       "2020-06-29  361.779999  \n",
       "2020-06-30  364.799988  \n",
       "2020-07-01  364.109985  \n",
       "\n",
       "[126 rows x 6 columns]"
      ]
     },
     "execution_count": 12,
     "metadata": {},
     "output_type": "execute_result"
    }
   ],
   "source": [
    "df"
   ]
  },
  {
   "cell_type": "code",
   "execution_count": null,
   "metadata": {},
   "outputs": [],
   "source": []
  }
 ],
 "metadata": {
  "kernelspec": {
   "display_name": "Python 3",
   "language": "python",
   "name": "python3"
  },
  "language_info": {
   "codemirror_mode": {
    "name": "ipython",
    "version": 3
   },
   "file_extension": ".py",
   "mimetype": "text/x-python",
   "name": "python",
   "nbconvert_exporter": "python",
   "pygments_lexer": "ipython3",
   "version": "3.7.7"
  }
 },
 "nbformat": 4,
 "nbformat_minor": 4
}
